{
 "cells": [
  {
   "cell_type": "markdown",
   "metadata": {},
   "source": [
    "# TestQuery Notebook"
   ]
  },
  {
   "cell_type": "markdown",
   "metadata": {},
   "source": [
    "This is a test Jupyter notebook to accompany the post:\n",
    "\n",
    "> <p><b>[Jupyter Notebooks with Elixir and RDF:<br/>Using IElixir in Jupyter Lab to explore SPARQL.ex](https://medium.com/@tonyhammond/jupyter-notebooks-with-elixir-and-rdf-598689c2dad3)\n",
    "</b></p>\n",
    "\n",
    "We shall be using [IElixir](https://github.com/pprzetacznik/IElixir) which provides the Jupyter kernel for Elixir. We'll also be using the Elixir package [SPARQL.ex](https://hex.pm/packages/sparql) which provides for SPARQL support. \n",
    "\n",
    "Here's the overview:\n",
    "\n",
    "1. Setting up the environment\n",
    "2. Simple queries\n",
    "3. Install our TestQuery module\n",
    "4. Testing it out\n",
    "5. Etc.\n",
    "\n",
    "![jupyter](../../priv/images/jupyter.png)\n"
   ]
  },
  {
   "cell_type": "markdown",
   "metadata": {},
   "source": [
    "## 1. Setting up the environment"
   ]
  },
  {
   "cell_type": "markdown",
   "metadata": {},
   "source": [
    "&#x279C; ** Create `sparql_env`.**\n",
    "\n",
    "IElixir uses the concept of virtual environments for managing packages. It uses [`Boyle`](https://github.com/pprzetacznik/IElixir#package-management-with-boyle) as its package manager.\n",
    "\n",
    "Let's first create a `sparql_env` environment for our SPARQL dependencies using `Boyle.mk/1`. And note that we have previously created an `rdf_env` environment for exploring [RDF.ex](https://hex.pm/packages/rdf)."
   ]
  },
  {
   "cell_type": "code",
   "execution_count": 1,
   "metadata": {},
   "outputs": [
    {
     "name": "stdout",
     "output_type": "stream",
     "text": [
      "All dependencies up to date\n"
     ]
    },
    {
     "data": {
      "text/plain": [
       "{:ok, [\"rdf_env\", \"sparql_env\"]}"
      ]
     },
     "execution_count": 1,
     "metadata": {},
     "output_type": "execute_result"
    }
   ],
   "source": [
    "Boyle.mk(\"sparql_env\")"
   ]
  },
  {
   "cell_type": "markdown",
   "metadata": {},
   "source": [
    "&#x279C; **Activate the environment.**\n",
    "\n",
    "Next step is to activate the environment which will take care of compiling."
   ]
  },
  {
   "cell_type": "code",
   "execution_count": 3,
   "metadata": {},
   "outputs": [
    {
     "name": "stdout",
     "output_type": "stream",
     "text": [
      "All dependencies up to date\n"
     ]
    },
    {
     "data": {
      "text/plain": [
       ":ok"
      ]
     },
     "execution_count": 3,
     "metadata": {},
     "output_type": "execute_result"
    }
   ],
   "source": [
    "Boyle.activate(\"sparql_env\")"
   ]
  },
  {
   "cell_type": "code",
   "execution_count": 4,
   "metadata": {},
   "outputs": [
    {
     "data": {
      "text/plain": [
       "{:ok, [\"rdf_env\", \"sparql_env\"]}"
      ]
     },
     "execution_count": 4,
     "metadata": {},
     "output_type": "execute_result"
    }
   ],
   "source": [
    "Boyle.list"
   ]
  },
  {
   "cell_type": "markdown",
   "metadata": {},
   "source": [
    "And we can double check that this is the current environment."
   ]
  },
  {
   "cell_type": "code",
   "execution_count": 6,
   "metadata": {},
   "outputs": [
    {
     "data": {
      "text/plain": [
       "\"sparql_env\""
      ]
     },
     "execution_count": 6,
     "metadata": {},
     "output_type": "execute_result"
    }
   ],
   "source": [
    "Boyle.active_env_name"
   ]
  },
  {
   "cell_type": "markdown",
   "metadata": {},
   "source": [
    "&#x279C; **Install `sparql_client` dependencies.**\n",
    "\n",
    "Next we install out dependencies."
   ]
  },
  {
   "cell_type": "code",
   "execution_count": null,
   "metadata": {},
   "outputs": [],
   "source": [
    "Boyle.install({:sparql_client, \"~> 0.2.1\"})"
   ]
  },
  {
   "cell_type": "markdown",
   "metadata": {},
   "source": [
    "&#x279C; **And check our packages.**\n",
    "\n",
    "And lastly let's just sanity check that we do indeed have the `SPARQL` and `SPARQL.Client` modules installed."
   ]
  },
  {
   "cell_type": "code",
   "execution_count": 4,
   "metadata": {},
   "outputs": [
    {
     "name": "stdout",
     "output_type": "stream",
     "text": [
      "execute_query/2                   execute_query/3                   query/1                           \n",
      "query/2                           result_format/1                   result_format_by_extension/1      \n",
      "result_format_by_media_type/1     result_formats/0                  \n"
     ]
    }
   ],
   "source": [
    "exports SPARQL"
   ]
  },
  {
   "cell_type": "code",
   "execution_count": 5,
   "metadata": {},
   "outputs": [
    {
     "name": "stdout",
     "output_type": "stream",
     "text": [
      "__adapter__/0               __middleware__/0            default_accept_header/1     \n",
      "delete/1                    delete/2                    delete/3                    \n",
      "delete!/1                   delete!/2                   delete!/3                   \n",
      "get/1                       get/2                       get/3                       \n",
      "get!/1                      get!/2                      get!/3                      \n",
      "head/1                      head/2                      head/3                      \n",
      "head!/1                     head!/2                     head!/3                     \n",
      "options/1                   options/2                   options/3                   \n",
      "options!/1                  options!/2                  options!/3                  \n",
      "patch/2                     patch/3                     patch/4                     \n",
      "patch!/2                    patch!/3                    patch!/4                    \n",
      "post/2                      post/3                      post/4                      \n",
      "post!/2                     post!/3                     post!/4                     \n",
      "put/2                       put/3                       put/4                       \n",
      "put!/2                      put!/3                      put!/4                      \n",
      "query/2                     query/3                     request/1                   \n",
      "request/2                   request!/1                  request!/2                  \n",
      "trace/1                     trace/2                     trace/3                     \n",
      "trace!/1                    trace!/2                    trace!/3                    \n"
     ]
    }
   ],
   "source": [
    "exports SPARQL.Client"
   ]
  },
  {
   "cell_type": "markdown",
   "metadata": {},
   "source": [
    "Looks good."
   ]
  },
  {
   "cell_type": "markdown",
   "metadata": {},
   "source": [
    "## 2. Simple queries"
   ]
  },
  {
   "cell_type": "markdown",
   "metadata": {},
   "source": [
    "&#x279C; **Let's try out a simple query.**\n",
    "\n",
    "\n",
    "Let's choose a SPARQL endpoint. The ever-reliable [DBpedia](https://wiki.dbpedia.org/) will be good."
   ]
  },
  {
   "cell_type": "code",
   "execution_count": 2,
   "metadata": {},
   "outputs": [
    {
     "data": {
      "text/plain": [
       "\"http://dbpedia.org/sparql\""
      ]
     },
     "execution_count": 2,
     "metadata": {},
     "output_type": "execute_result"
    }
   ],
   "source": [
    "service = \"http://dbpedia.org/sparql\""
   ]
  },
  {
   "cell_type": "markdown",
   "metadata": {},
   "source": [
    "And we'll create a simple SPARQL query."
   ]
  },
  {
   "cell_type": "code",
   "execution_count": 1,
   "metadata": {},
   "outputs": [
    {
     "data": {
      "text/plain": [
       "\"select * where {?s ?p ?o} limit 5\""
      ]
     },
     "execution_count": 1,
     "metadata": {},
     "output_type": "execute_result"
    }
   ],
   "source": [
    "query = \"select * where {?s ?p ?o} limit 5\""
   ]
  },
  {
   "cell_type": "markdown",
   "metadata": {},
   "source": [
    "&#x279C; **First query try gives error.**"
   ]
  },
  {
   "cell_type": "code",
   "execution_count": 10,
   "metadata": {},
   "outputs": [
    {
     "data": {
      "text/plain": [
       "{:error, \"unsupported result format for select query: \\\"text/html; charset=UTF-8\\\"\"}"
      ]
     },
     "execution_count": 10,
     "metadata": {},
     "output_type": "execute_result"
    }
   ],
   "source": [
    "SPARQL.Client.query(query, service)"
   ]
  },
  {
   "cell_type": "markdown",
   "metadata": {},
   "source": [
    "&#x279C; **Let's check out the documentation.**"
   ]
  },
  {
   "cell_type": "code",
   "execution_count": null,
   "metadata": {},
   "outputs": [],
   "source": [
    "h SPARQL.Client.query"
   ]
  },
  {
   "cell_type": "markdown",
   "metadata": {},
   "source": [
    "&#x279C; **Second try succeeds – after setting :request_method (and :protocol_version).**"
   ]
  },
  {
   "cell_type": "code",
   "execution_count": null,
   "metadata": {},
   "outputs": [],
   "source": [
    "SPARQL.Client.query(query, service, request_method: :get, protocol_version: \"1.1\")"
   ]
  },
  {
   "cell_type": "markdown",
   "metadata": {},
   "source": [
    "Hey, that works! Let's capture the result."
   ]
  },
  {
   "cell_type": "code",
   "execution_count": 6,
   "metadata": {},
   "outputs": [
    {
     "data": {
      "text/plain": [
       "{:ok, %SPARQL.Query.Result{results: [%{\"o\" => ~I<http://www.openlinksw.com/schemas/virtrdf#QuadMapFormat>, \"p\" => ~I<http://www.w3.org/1999/02/22-rdf-syntax-ns#type>, \"s\" => ~I<http://www.openlinksw.com/virtrdf-data-formats#default-iid>}, %{\"o\" => ~I<http://www.openlinksw.com/schemas/virtrdf#QuadMapFormat>, \"p\" => ~I<http://www.w3.org/1999/02/22-rdf-syntax-ns#type>, \"s\" => ~I<http://www.openlinksw.com/virtrdf-data-formats#default-iid-nullable>}, %{\"o\" => ~I<http://www.openlinksw.com/schemas/virtrdf#QuadMapFormat>, \"p\" => ~I<http://www.w3.org/1999/02/22-rdf-syntax-ns#type>, \"s\" => ~I<http://www.openlinksw.com/virtrdf-data-formats#default-iid-nonblank>}, %{\"o\" => ~I<http://www.openlinksw.com/schemas/virtrdf#QuadMapFormat>, \"p\" => ~I<http://www.w3.org/1999/02/22-rdf-syntax-ns#type>, \"s\" => ~I<http://www.openlinksw.com/virtrdf-data-formats#default-iid-nonblank-nullable>}, %{\"o\" => ~I<http://www.openlinksw.com/schemas/virtrdf#QuadMapFormat>, \"p\" => ~I<http://www.w3.org/1999/02/22-rdf-syntax-ns#type>, \"s\" => ~I<http://www.openlinksw.com/virtrdf-data-formats#default>}], variables: [\"s\", \"p\", \"o\"]}}"
      ]
     },
     "execution_count": 6,
     "metadata": {},
     "output_type": "execute_result"
    }
   ],
   "source": [
    "{:ok, result} = SPARQL.Client.query(query, service, request_method: :get, protocol_version: \"1.1\")"
   ]
  },
  {
   "cell_type": "code",
   "execution_count": 11,
   "metadata": {},
   "outputs": [
    {
     "name": "stdout",
     "output_type": "stream",
     "text": [
      "[~I<http://www.w3.org/1999/02/22-rdf-syntax-ns#type>,\n",
      " ~I<http://www.w3.org/1999/02/22-rdf-syntax-ns#type>,\n",
      " ~I<http://www.w3.org/1999/02/22-rdf-syntax-ns#type>,\n",
      " ~I<http://www.w3.org/1999/02/22-rdf-syntax-ns#type>,\n",
      " ~I<http://www.w3.org/1999/02/22-rdf-syntax-ns#type>]\n"
     ]
    },
    {
     "data": {
      "text/plain": [
       "[~I<http://www.w3.org/1999/02/22-rdf-syntax-ns#type>, ~I<http://www.w3.org/1999/02/22-rdf-syntax-ns#type>, ~I<http://www.w3.org/1999/02/22-rdf-syntax-ns#type>, ~I<http://www.w3.org/1999/02/22-rdf-syntax-ns#type>, ~I<http://www.w3.org/1999/02/22-rdf-syntax-ns#type>]"
      ]
     },
     "execution_count": 11,
     "metadata": {},
     "output_type": "execute_result"
    }
   ],
   "source": [
    "result |> SPARQL.Query.Result.get(:p) |> IO.inspect"
   ]
  },
  {
   "cell_type": "markdown",
   "metadata": {},
   "source": [
    "Time for something more interesting. Let's try out our earlier `TestQuery` package."
   ]
  },
  {
   "cell_type": "markdown",
   "metadata": {},
   "source": [
    "## 3. Installing our TestQuery module"
   ]
  },
  {
   "cell_type": "markdown",
   "metadata": {},
   "source": [
    "&#x279C; **Install TestQuery**\n",
    "\n",
    "Is our `TestQuery` module loaded?"
   ]
  },
  {
   "cell_type": "code",
   "execution_count": null,
   "metadata": {},
   "outputs": [],
   "source": [
    "exports TestQuery"
   ]
  },
  {
   "cell_type": "markdown",
   "metadata": {},
   "source": [
    "That'll be a no, then. So, let's explicitly import the module."
   ]
  },
  {
   "cell_type": "code",
   "execution_count": 22,
   "metadata": {},
   "outputs": [
    {
     "ename": "Protocol.UndefinedError",
     "evalue": "1",
     "execution_count": 22,
     "output_type": "error",
     "traceback": [
      "** %Protocol.UndefinedError{description: \"\", protocol: String.Chars, value: {:error, :bad_name}}"
     ]
    }
   ],
   "source": [
    "import_file(\"../../tonyhammond/examples/test_query/lib/test_query.ex\")"
   ]
  },
  {
   "cell_type": "markdown",
   "metadata": {},
   "source": [
    "Rats!"
   ]
  },
  {
   "cell_type": "markdown",
   "metadata": {},
   "source": [
    "Turns out that our call `:code.priv_dir(:test_query)}` is failing."
   ]
  },
  {
   "cell_type": "markdown",
   "metadata": {},
   "source": [
    "Let's just hardwire that for now and try again."
   ]
  },
  {
   "cell_type": "code",
   "execution_count": 22,
   "metadata": {},
   "outputs": [
    {
     "data": {
      "text/plain": [
       "{:module, TestQuery, <<70, 79, 82, 49, 0, 0, 7, 104, 66, 69, 65, 77, 65, 116, 85, 56, 0, 0, 0, 191, 0, 0, 0, 18, 16, 69, 108, 105, 120, 105, 114, 46, 84, 101, 115, 116, 81, 117, 101, 114, 121, 8, 95, 95, 105, 110, 102, ...>>, {:query, 2}}"
      ]
     },
     "execution_count": 22,
     "metadata": {},
     "output_type": "execute_result"
    }
   ],
   "source": [
    "import_file(\"../../tonyhammond/examples/test_ipynb/lib/test_query.ex\")"
   ]
  },
  {
   "cell_type": "markdown",
   "metadata": {},
   "source": [
    "And let's sanity check."
   ]
  },
  {
   "cell_type": "code",
   "execution_count": null,
   "metadata": {},
   "outputs": [],
   "source": [
    "exports TestQuery"
   ]
  },
  {
   "cell_type": "markdown",
   "metadata": {},
   "source": [
    "Success!"
   ]
  },
  {
   "cell_type": "markdown",
   "metadata": {},
   "source": [
    "&#x279C; **Install TestQuery.Client.** \n",
    "\n",
    "Now let's import the `TestQuery.Client` module."
   ]
  },
  {
   "cell_type": "code",
   "execution_count": 23,
   "metadata": {},
   "outputs": [
    {
     "ename": "Protocol.UndefinedError",
     "evalue": "1",
     "execution_count": 23,
     "output_type": "error",
     "traceback": [
      "** %Protocol.UndefinedError{description: \"\", protocol: String.Chars, value: {:error, :bad_name}}"
     ]
    }
   ],
   "source": [
    "import_file(\"../../tonyhammond/examples/test_query/lib/test_query/client.ex\")"
   ]
  },
  {
   "cell_type": "markdown",
   "metadata": {},
   "source": [
    "Same problem. Same fix."
   ]
  },
  {
   "cell_type": "code",
   "execution_count": 23,
   "metadata": {},
   "outputs": [
    {
     "data": {
      "text/plain": [
       "{:module, TestQuery.Client, <<70, 79, 82, 49, 0, 0, 26, 80, 66, 69, 65, 77, 65, 116, 85, 56, 0, 0, 2, 223, 0, 0, 0, 71, 23, 69, 108, 105, 120, 105, 114, 46, 84, 101, 115, 116, 81, 117, 101, 114, 121, 46, 67, 108, 105, 101, 110, ...>>, {:_read_tuple, 1}}"
      ]
     },
     "execution_count": 23,
     "metadata": {},
     "output_type": "execute_result"
    }
   ],
   "source": [
    "import_file(\"../../tonyhammond/examples/test_ipynb/lib/test_query/client.ex\")"
   ]
  },
  {
   "cell_type": "markdown",
   "metadata": {},
   "source": [
    "And again sanity check."
   ]
  },
  {
   "cell_type": "code",
   "execution_count": null,
   "metadata": {},
   "outputs": [],
   "source": [
    "exports TestQuery.Client"
   ]
  },
  {
   "cell_type": "markdown",
   "metadata": {},
   "source": [
    "## 4. Testing it out"
   ]
  },
  {
   "cell_type": "markdown",
   "metadata": {},
   "source": [
    "&#x279C; **Now let's query**"
   ]
  },
  {
   "cell_type": "code",
   "execution_count": null,
   "metadata": {},
   "outputs": [],
   "source": [
    "o = SPARQL.Query.Result.get(result, :o) |> List.first"
   ]
  },
  {
   "cell_type": "code",
   "execution_count": null,
   "metadata": {},
   "outputs": [],
   "source": [
    "query"
   ]
  },
  {
   "cell_type": "code",
   "execution_count": null,
   "metadata": {},
   "outputs": [],
   "source": [
    "exports SPARQL.Query.Result"
   ]
  },
  {
   "cell_type": "code",
   "execution_count": null,
   "metadata": {},
   "outputs": [],
   "source": [
    "SPARQL.Query.Result.get(result, :o) "
   ]
  },
  {
   "cell_type": "code",
   "execution_count": null,
   "metadata": {},
   "outputs": [],
   "source": [
    "o.value"
   ]
  },
  {
   "cell_type": "code",
   "execution_count": null,
   "metadata": {},
   "outputs": [],
   "source": [
    "rq = File.read!(\"/Users/tony/Projects/local/elixir/examples/test_super/priv/queries/dbpedia_query.rq\")"
   ]
  },
  {
   "cell_type": "code",
   "execution_count": null,
   "metadata": {},
   "outputs": [],
   "source": [
    "IO.puts rq"
   ]
  },
  {
   "cell_type": "markdown",
   "metadata": {},
   "source": [
    "## 5. Etc."
   ]
  },
  {
   "cell_type": "code",
   "execution_count": null,
   "metadata": {},
   "outputs": [],
   "source": []
  }
 ],
 "metadata": {
  "kernelspec": {
   "display_name": "Elixir",
   "language": "Elixir",
   "name": "ielixir"
  },
  "language_info": {
   "codemirror_mode": "elixir",
   "file_extension": "ex",
   "mimetype": "text/x-elixir",
   "name": "elixir",
   "nbconvert_exporter": "",
   "pygments_lexer": "elixir",
   "version": "#Version<1.7.3>"
  }
 },
 "nbformat": 4,
 "nbformat_minor": 2
}
